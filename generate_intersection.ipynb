{
 "cells": [
  {
   "cell_type": "code",
   "execution_count": 51,
   "metadata": {},
   "outputs": [],
   "source": [
    "import glob\n",
    "import matplotlib.pyplot as plt\n",
    "import os\n",
    "import cv2\n",
    "import shapely\n",
    "import numpy as np\n",
    "import json\n",
    "import math\n",
    "import geopandas as gpd\n",
    "import pandas as pd\n",
    "import time\n",
    "from shapely import geometry"
   ]
  },
  {
   "cell_type": "markdown",
   "metadata": {},
   "source": [
    "### This conversion function is only working at my datasets\n",
    "This is conversion function between (longitude, latitude) and (x, y). <br>I saved this image to (512,512, 3) label mask images."
   ]
  },
  {
   "cell_type": "code",
   "execution_count": 2,
   "metadata": {},
   "outputs": [],
   "source": [
    "def lonlat2xy(lon_deg, lat_deg, zoom=18): \n",
    "    lat_rad = math.radians(lat_deg)\n",
    "    n = 2.0 ** zoom\n",
    "    xtile = ((lon_deg + 180.0) / 360.0 * n)\n",
    "    ytile = ((1.0 - math.log(math.tan(lat_rad) + (1 / math.cos(lat_rad))) / math.pi) / 2.0 * n)\n",
    "    return (xtile, ytile)\n",
    "\n",
    "\n",
    "\n",
    "def xy2lonlat(xtile, ytile, zoom=18):\n",
    "    n = 2.0 ** zoom\n",
    "    lon_deg = xtile / n * 360.0 - 180.0\n",
    "    lat_rad = math.atan(math.sinh(math.pi * (1 - 2 * ytile / n)))\n",
    "    lat_deg = math.degrees(lat_rad)\n",
    "    return (lon_deg), (lat_deg)\n",
    "\n",
    "\n",
    "def tile2xypixel(xpoint, ypoint, xtile, ytile):\n",
    "    x = (int((xpoint - xtile) * 512))\n",
    "    y = (int((ypoint - ytile) * 512))\n",
    "    return x ,y"
   ]
  },
  {
   "cell_type": "markdown",
   "metadata": {},
   "source": [
    "# First example - problem\n",
    "This code has some error at intersected_polys.<br> At specific images, intersection function is not working.\n",
    "I tested at only 1 image."
   ]
  },
  {
   "cell_type": "code",
   "execution_count": 5,
   "metadata": {},
   "outputs": [],
   "source": [
    "path_json = \"/Users/ug/Desktop/dir/final.geojson\""
   ]
  },
  {
   "cell_type": "code",
   "execution_count": 6,
   "metadata": {},
   "outputs": [],
   "source": [
    "with open(path_json) as json_file:\n",
    "    json_file = json.load(json_file)\n",
    "geom = [geometry.shape(poly['geometry']) for poly in json_file['features']]"
   ]
  },
  {
   "cell_type": "code",
   "execution_count": 7,
   "metadata": {},
   "outputs": [],
   "source": [
    "buildings = []\n",
    "for i in range(len(geom)):\n",
    "    if geom[i].is_empty == False:\n",
    "        buildings.append(geom[i])"
   ]
  },
  {
   "cell_type": "code",
   "execution_count": 8,
   "metadata": {},
   "outputs": [],
   "source": [
    "polys = []\n",
    "for geom in buildings:\n",
    "    for g in geom:\n",
    "        polys.append(g)"
   ]
  },
  {
   "cell_type": "code",
   "execution_count": 9,
   "metadata": {},
   "outputs": [],
   "source": [
    "multi_poly = geometry.MultiPolygon(polys).buffer(0)"
   ]
  },
  {
   "cell_type": "code",
   "execution_count": 10,
   "metadata": {},
   "outputs": [],
   "source": [
    "sat_path = \"/Users/ug/Desktop/img/*.png\""
   ]
  },
  {
   "cell_type": "code",
   "execution_count": 11,
   "metadata": {},
   "outputs": [],
   "source": [
    "sat_files = glob.glob(sat_path)"
   ]
  },
  {
   "cell_type": "code",
   "execution_count": 12,
   "metadata": {},
   "outputs": [
    {
     "name": "stdout",
     "output_type": "stream",
     "text": [
      "/Users/dabeeo/Desktop/seoul/new_2015/19_447244_202965.png\n"
     ]
    }
   ],
   "source": [
    "img_file = sat_files[1]\n",
    "print(img_file)\n",
    "img = cv2.imread(img_file)\n",
    "mask = np.zeros_like(img)\n",
    "if np.count_nonzero(img) == 0:\n",
    "    print(\"There are some Errors\")\n",
    "\n",
    "zoom, xtile, ytile = img_file.replace(\".png\",\"\").split(\"/\")[-1].split(\"_\")\n",
    "zoom, xtile, ytile = int(zoom), int(xtile), int(ytile)\n",
    "minlon, minlat = xy2lonlat(xtile, ytile, zoom)\n",
    "maxlon, maxlat  = xy2lonlat(xtile + 1, ytile + 1, zoom)\n",
    "box = geometry.box(minlon, minlat, maxlon, maxlat)"
   ]
  },
  {
   "cell_type": "code",
   "execution_count": 13,
   "metadata": {},
   "outputs": [],
   "source": [
    "intersected_polys = multi_poly.intersection(box)"
   ]
  },
  {
   "cell_type": "code",
   "execution_count": 14,
   "metadata": {},
   "outputs": [
    {
     "data": {
      "image/svg+xml": [
       "<svg xmlns=\"http://www.w3.org/2000/svg\" xmlns:xlink=\"http://www.w3.org/1999/xlink\" width=\"100.0\" height=\"100.0\" viewBox=\"127.09805603027344 37.60223778217969 0.0007415771484318157 0.0005979428770146455\" preserveAspectRatio=\"xMinYMin meet\"><g transform=\"matrix(1,0,0,-1,0,75.20507350723639)\"><g><path fill-rule=\"evenodd\" fill=\"#66cc99\" stroke=\"#555555\" stroke-width=\"1.4831542968636313e-05\" opacity=\"0.6\" d=\"M 127.09877014160156,37.602559404457764 L 127.098667939,37.602295242 L 127.098651578,37.602299332 L 127.098633855,37.602265248 L 127.098497517,37.602295242 L 127.098517968,37.602356594 L 127.098538418,37.60235114 L 127.0987061680374,37.6028082592364 L 127.09877014160156,37.6028082592364 L 127.09877014160156,37.602559404457764 z\" /><path fill-rule=\"evenodd\" fill=\"#66cc99\" stroke=\"#555555\" stroke-width=\"1.4831542968636313e-05\" opacity=\"0.6\" d=\"M 127.098363906,37.602522244 L 127.098448436,37.602501112 L 127.098389129,37.602339892 L 127.098302214,37.602362047 L 127.098363906,37.602522244 z\" /><path fill-rule=\"evenodd\" fill=\"#66cc99\" stroke=\"#555555\" stroke-width=\"1.4831542968636313e-05\" opacity=\"0.6\" d=\"M 127.09829267,37.602361706 L 127.098400036,37.602336143 L 127.098390151,37.602303763 L 127.098280741,37.602330349 L 127.09829267,37.602361706 z\" /><path fill-rule=\"evenodd\" fill=\"#66cc99\" stroke=\"#555555\" stroke-width=\"1.4831542968636313e-05\" opacity=\"0.6\" d=\"M 127.09824039663819,37.6028082592364 L 127.098156673,37.602531106 L 127.09808349609375,37.602543671539706 L 127.09808349609375,37.60277176112481 L 127.09809386714704,37.6028082592364 L 127.09824039663819,37.6028082592364 z\" /><path fill-rule=\"evenodd\" fill=\"#66cc99\" stroke=\"#555555\" stroke-width=\"1.4831542968636313e-05\" opacity=\"0.6\" d=\"M 127.09808349609375,37.602358634754474 L 127.098132133,37.602343301 L 127.098107592,37.602286039 L 127.09808349609375,37.60226696316627 L 127.09808349609375,37.602358634754474 z\" /></g></g></svg>"
      ],
      "text/plain": [
       "<shapely.geometry.multipolygon.MultiPolygon at 0x130f02cc0>"
      ]
     },
     "execution_count": 14,
     "metadata": {},
     "output_type": "execute_result"
    }
   ],
   "source": [
    "intersected_polys"
   ]
  },
  {
   "cell_type": "markdown",
   "metadata": {},
   "source": [
    "# Second example - problem\n",
    "This example used geopandas. There used gpd.overlay(how=\"intersection\") and it was working at all imgaes.<br>\n",
    "However, overaly function takes time too long."
   ]
  },
  {
   "cell_type": "code",
   "execution_count": 16,
   "metadata": {},
   "outputs": [],
   "source": [
    "path_json = \"/Users/ug/Desktop/dir/final.geojson\""
   ]
  },
  {
   "cell_type": "code",
   "execution_count": 17,
   "metadata": {},
   "outputs": [],
   "source": [
    "df = gpd.read_file(path_json)"
   ]
  },
  {
   "cell_type": "code",
   "execution_count": 18,
   "metadata": {},
   "outputs": [
    {
     "data": {
      "text/plain": [
       "0    GEOMETRYCOLLECTION EMPTY\n",
       "1    GEOMETRYCOLLECTION EMPTY\n",
       "2    GEOMETRYCOLLECTION EMPTY\n",
       "3    GEOMETRYCOLLECTION EMPTY\n",
       "4    GEOMETRYCOLLECTION EMPTY\n",
       "Name: geometry, dtype: geometry"
      ]
     },
     "execution_count": 18,
     "metadata": {},
     "output_type": "execute_result"
    }
   ],
   "source": [
    "geom = df['geometry']\n",
    "geom.head()"
   ]
  },
  {
   "cell_type": "code",
   "execution_count": 19,
   "metadata": {},
   "outputs": [
    {
     "name": "stderr",
     "output_type": "stream",
     "text": [
      "/Users/dabeeo/anaconda3/envs/test/lib/python3.7/site-packages/ipykernel_launcher.py:1: UserWarning: GeoSeries.isna() previously returned True for both missing (None) and empty geometries. Now, it only returns True for missing values. Since the calling GeoSeries contains empty geometries, the result has changed compared to previous versions of GeoPandas.\n",
      "Given a GeoSeries 's', you can use 's.is_empty | s.isna()' to get back the old behaviour.\n",
      "\n",
      "To further ignore this warning, you can do: \n",
      "import warnings; warnings.filterwarnings('ignore', 'GeoSeries.isna', UserWarning)\n",
      "  \"\"\"Entry point for launching an IPython kernel.\n"
     ]
    }
   ],
   "source": [
    "building = geom[~(geom.is_empty | geom.isna())]"
   ]
  },
  {
   "cell_type": "code",
   "execution_count": 20,
   "metadata": {},
   "outputs": [
    {
     "data": {
      "text/plain": [
       "441    0    POLYGON ((127.05994 37.58265, 127.06023 37.582...\n",
       "442    0    POLYGON ((127.06013 37.58249, 127.06012 37.582...\n",
       "443    0    POLYGON ((127.05985 37.58242, 127.06007 37.582...\n",
       "444    0    POLYGON ((127.06033 37.58263, 127.06057 37.582...\n",
       "445    0    POLYGON ((127.06033 37.58253, 127.06057 37.582...\n",
       "                                  ...                        \n",
       "53878  0    POLYGON ((127.04066 37.58145, 127.04067 37.581...\n",
       "53879  0    POLYGON ((127.04073 37.58136, 127.04074 37.581...\n",
       "53880  0    POLYGON ((127.04074 37.58145, 127.04074 37.581...\n",
       "53881  0    POLYGON ((127.04078 37.58138, 127.04081 37.581...\n",
       "53882  0    POLYGON ((127.04094 37.58132, 127.04095 37.581...\n",
       "Name: geometry, Length: 52369, dtype: geometry"
      ]
     },
     "execution_count": 20,
     "metadata": {},
     "output_type": "execute_result"
    }
   ],
   "source": [
    "buildings = gpd.GeoDataFrame(building).set_geometry('geometry')['geometry']\n",
    "buildings = buildings.explode()\n",
    "buildings"
   ]
  },
  {
   "cell_type": "code",
   "execution_count": 21,
   "metadata": {},
   "outputs": [
    {
     "data": {
      "text/html": [
       "<div>\n",
       "<style scoped>\n",
       "    .dataframe tbody tr th:only-of-type {\n",
       "        vertical-align: middle;\n",
       "    }\n",
       "\n",
       "    .dataframe tbody tr th {\n",
       "        vertical-align: top;\n",
       "    }\n",
       "\n",
       "    .dataframe thead th {\n",
       "        text-align: right;\n",
       "    }\n",
       "</style>\n",
       "<table border=\"1\" class=\"dataframe\">\n",
       "  <thead>\n",
       "    <tr style=\"text-align: right;\">\n",
       "      <th></th>\n",
       "      <th>geometry</th>\n",
       "    </tr>\n",
       "  </thead>\n",
       "  <tbody>\n",
       "    <tr>\n",
       "      <th>0</th>\n",
       "      <td>POLYGON ((127.05994 37.58265, 127.06023 37.582...</td>\n",
       "    </tr>\n",
       "    <tr>\n",
       "      <th>1</th>\n",
       "      <td>POLYGON ((127.06013 37.58249, 127.06012 37.582...</td>\n",
       "    </tr>\n",
       "    <tr>\n",
       "      <th>2</th>\n",
       "      <td>POLYGON ((127.05985 37.58242, 127.06007 37.582...</td>\n",
       "    </tr>\n",
       "    <tr>\n",
       "      <th>3</th>\n",
       "      <td>POLYGON ((127.06033 37.58263, 127.06057 37.582...</td>\n",
       "    </tr>\n",
       "    <tr>\n",
       "      <th>4</th>\n",
       "      <td>POLYGON ((127.06033 37.58253, 127.06057 37.582...</td>\n",
       "    </tr>\n",
       "    <tr>\n",
       "      <th>...</th>\n",
       "      <td>...</td>\n",
       "    </tr>\n",
       "    <tr>\n",
       "      <th>52364</th>\n",
       "      <td>POLYGON ((127.04066 37.58145, 127.04067 37.581...</td>\n",
       "    </tr>\n",
       "    <tr>\n",
       "      <th>52365</th>\n",
       "      <td>POLYGON ((127.04073 37.58136, 127.04074 37.581...</td>\n",
       "    </tr>\n",
       "    <tr>\n",
       "      <th>52366</th>\n",
       "      <td>POLYGON ((127.04074 37.58145, 127.04074 37.581...</td>\n",
       "    </tr>\n",
       "    <tr>\n",
       "      <th>52367</th>\n",
       "      <td>POLYGON ((127.04078 37.58138, 127.04081 37.581...</td>\n",
       "    </tr>\n",
       "    <tr>\n",
       "      <th>52368</th>\n",
       "      <td>POLYGON ((127.04094 37.58132, 127.04095 37.581...</td>\n",
       "    </tr>\n",
       "  </tbody>\n",
       "</table>\n",
       "<p>52369 rows × 1 columns</p>\n",
       "</div>"
      ],
      "text/plain": [
       "                                                geometry\n",
       "0      POLYGON ((127.05994 37.58265, 127.06023 37.582...\n",
       "1      POLYGON ((127.06013 37.58249, 127.06012 37.582...\n",
       "2      POLYGON ((127.05985 37.58242, 127.06007 37.582...\n",
       "3      POLYGON ((127.06033 37.58263, 127.06057 37.582...\n",
       "4      POLYGON ((127.06033 37.58253, 127.06057 37.582...\n",
       "...                                                  ...\n",
       "52364  POLYGON ((127.04066 37.58145, 127.04067 37.581...\n",
       "52365  POLYGON ((127.04073 37.58136, 127.04074 37.581...\n",
       "52366  POLYGON ((127.04074 37.58145, 127.04074 37.581...\n",
       "52367  POLYGON ((127.04078 37.58138, 127.04081 37.581...\n",
       "52368  POLYGON ((127.04094 37.58132, 127.04095 37.581...\n",
       "\n",
       "[52369 rows x 1 columns]"
      ]
     },
     "execution_count": 21,
     "metadata": {},
     "output_type": "execute_result"
    }
   ],
   "source": [
    "polys = buildings.reset_index()['geometry']\n",
    "polys = gpd.GeoDataFrame(polys)\n",
    "polys"
   ]
  },
  {
   "cell_type": "code",
   "execution_count": 22,
   "metadata": {},
   "outputs": [
    {
     "data": {
      "text/plain": [
       "geopandas.geodataframe.GeoDataFrame"
      ]
     },
     "execution_count": 22,
     "metadata": {},
     "output_type": "execute_result"
    }
   ],
   "source": [
    "type(polys)"
   ]
  },
  {
   "cell_type": "code",
   "execution_count": 23,
   "metadata": {},
   "outputs": [],
   "source": [
    "sat_path = \"/Users/ug/Desktop/img/*.png\""
   ]
  },
  {
   "cell_type": "code",
   "execution_count": 24,
   "metadata": {},
   "outputs": [],
   "source": [
    "sat_files = glob.glob(sat_path)"
   ]
  },
  {
   "cell_type": "code",
   "execution_count": 25,
   "metadata": {},
   "outputs": [
    {
     "name": "stdout",
     "output_type": "stream",
     "text": [
      "/Users/dabeeo/Desktop/seoul/new_2015/19_447244_202965.png\n"
     ]
    }
   ],
   "source": [
    "img_file = sat_files[1]\n",
    "print(img_file)\n",
    "img = cv2.imread(img_file)\n",
    "mask = np.zeros_like(img)\n",
    "if np.count_nonzero(img) == 0:\n",
    "    print(\"There are some Errors\")\n",
    "\n",
    "zoom, xtile, ytile = img_file.replace(\".png\",\"\").split(\"/\")[-1].split(\"_\")\n",
    "zoom, xtile, ytile = int(zoom), int(xtile), int(ytile)\n",
    "minlon, minlat = xy2lonlat(xtile, ytile, zoom)\n",
    "maxlon, maxlat  = xy2lonlat(xtile + 1, ytile + 1, zoom)\n",
    "\n",
    "temp_box = gpd.GeoSeries([geometry.Polygon([(minlon,minlat), (maxlon,minlat), (maxlon,maxlat), (minlon,maxlat)])])\n",
    "box = gpd.GeoDataFrame({'geometry': temp_box})"
   ]
  },
  {
   "cell_type": "code",
   "execution_count": 26,
   "metadata": {},
   "outputs": [
    {
     "name": "stdout",
     "output_type": "stream",
     "text": [
      "time:  8.004096984863281\n"
     ]
    }
   ],
   "source": [
    "start = time.time()\n",
    "intersected_polys = gpd.overlay(box, polys, how=\"intersection\")\n",
    "print(\"time: \", time.time() - start)"
   ]
  },
  {
   "cell_type": "code",
   "execution_count": 27,
   "metadata": {},
   "outputs": [
    {
     "data": {
      "text/html": [
       "<div>\n",
       "<style scoped>\n",
       "    .dataframe tbody tr th:only-of-type {\n",
       "        vertical-align: middle;\n",
       "    }\n",
       "\n",
       "    .dataframe tbody tr th {\n",
       "        vertical-align: top;\n",
       "    }\n",
       "\n",
       "    .dataframe thead th {\n",
       "        text-align: right;\n",
       "    }\n",
       "</style>\n",
       "<table border=\"1\" class=\"dataframe\">\n",
       "  <thead>\n",
       "    <tr style=\"text-align: right;\">\n",
       "      <th></th>\n",
       "      <th>geometry</th>\n",
       "    </tr>\n",
       "  </thead>\n",
       "  <tbody>\n",
       "    <tr>\n",
       "      <th>0</th>\n",
       "      <td>POLYGON ((127.09836 37.60252, 127.09845 37.602...</td>\n",
       "    </tr>\n",
       "    <tr>\n",
       "      <th>1</th>\n",
       "      <td>POLYGON ((127.09809 37.60281, 127.09824 37.602...</td>\n",
       "    </tr>\n",
       "    <tr>\n",
       "      <th>2</th>\n",
       "      <td>POLYGON ((127.09871 37.60281, 127.09877 37.602...</td>\n",
       "    </tr>\n",
       "    <tr>\n",
       "      <th>3</th>\n",
       "      <td>POLYGON ((127.09808 37.60227, 127.09808 37.602...</td>\n",
       "    </tr>\n",
       "    <tr>\n",
       "      <th>4</th>\n",
       "      <td>POLYGON ((127.09829 37.60236, 127.09840 37.602...</td>\n",
       "    </tr>\n",
       "  </tbody>\n",
       "</table>\n",
       "</div>"
      ],
      "text/plain": [
       "                                            geometry\n",
       "0  POLYGON ((127.09836 37.60252, 127.09845 37.602...\n",
       "1  POLYGON ((127.09809 37.60281, 127.09824 37.602...\n",
       "2  POLYGON ((127.09871 37.60281, 127.09877 37.602...\n",
       "3  POLYGON ((127.09808 37.60227, 127.09808 37.602...\n",
       "4  POLYGON ((127.09829 37.60236, 127.09840 37.602..."
      ]
     },
     "execution_count": 27,
     "metadata": {},
     "output_type": "execute_result"
    }
   ],
   "source": [
    "intersected_polys"
   ]
  },
  {
   "cell_type": "code",
   "execution_count": 28,
   "metadata": {},
   "outputs": [
    {
     "data": {
      "text/plain": [
       "<matplotlib.axes._subplots.AxesSubplot at 0x1327e8eb8>"
      ]
     },
     "execution_count": 28,
     "metadata": {},
     "output_type": "execute_result"
    },
    {
     "data": {
      "image/png": "[encoded data removed]",
      "text/plain": [
       "<Figure size 432x288 with 1 Axes>"
      ]
     },
     "metadata": {
      "needs_background": "light"
     },
     "output_type": "display_data"
    }
   ],
   "source": [
    "intersected_polys['geometry'].plot()"
   ]
  },
  {
   "cell_type": "markdown",
   "metadata": {},
   "source": [
    "# Thrid example - solution\n",
    "I used geopandas and rtree for spatial joins.<br> It made them efficient and took short time."
   ]
  },
  {
   "cell_type": "code",
   "execution_count": 30,
   "metadata": {},
   "outputs": [],
   "source": [
    "path_json = \"/Users/ug/Desktop/dir/final.geojson\""
   ]
  },
  {
   "cell_type": "code",
   "execution_count": 31,
   "metadata": {},
   "outputs": [],
   "source": [
    "df = gpd.read_file(path_json)"
   ]
  },
  {
   "cell_type": "code",
   "execution_count": 32,
   "metadata": {},
   "outputs": [
    {
     "data": {
      "text/plain": [
       "0    GEOMETRYCOLLECTION EMPTY\n",
       "1    GEOMETRYCOLLECTION EMPTY\n",
       "2    GEOMETRYCOLLECTION EMPTY\n",
       "3    GEOMETRYCOLLECTION EMPTY\n",
       "4    GEOMETRYCOLLECTION EMPTY\n",
       "Name: geometry, dtype: geometry"
      ]
     },
     "execution_count": 32,
     "metadata": {},
     "output_type": "execute_result"
    }
   ],
   "source": [
    "geom = df['geometry']\n",
    "geom.head()"
   ]
  },
  {
   "cell_type": "code",
   "execution_count": 33,
   "metadata": {},
   "outputs": [
    {
     "name": "stderr",
     "output_type": "stream",
     "text": [
      "/Users/dabeeo/anaconda3/envs/test/lib/python3.7/site-packages/ipykernel_launcher.py:1: UserWarning: GeoSeries.isna() previously returned True for both missing (None) and empty geometries. Now, it only returns True for missing values. Since the calling GeoSeries contains empty geometries, the result has changed compared to previous versions of GeoPandas.\n",
      "Given a GeoSeries 's', you can use 's.is_empty | s.isna()' to get back the old behaviour.\n",
      "\n",
      "To further ignore this warning, you can do: \n",
      "import warnings; warnings.filterwarnings('ignore', 'GeoSeries.isna', UserWarning)\n",
      "  \"\"\"Entry point for launching an IPython kernel.\n"
     ]
    }
   ],
   "source": [
    "building = geom[~(geom.is_empty | geom.isna())]"
   ]
  },
  {
   "cell_type": "code",
   "execution_count": 34,
   "metadata": {},
   "outputs": [
    {
     "data": {
      "text/plain": [
       "441    0    POLYGON ((127.05994 37.58265, 127.06023 37.582...\n",
       "442    0    POLYGON ((127.06013 37.58249, 127.06012 37.582...\n",
       "443    0    POLYGON ((127.05985 37.58242, 127.06007 37.582...\n",
       "444    0    POLYGON ((127.06033 37.58263, 127.06057 37.582...\n",
       "445    0    POLYGON ((127.06033 37.58253, 127.06057 37.582...\n",
       "                                  ...                        \n",
       "53878  0    POLYGON ((127.04066 37.58145, 127.04067 37.581...\n",
       "53879  0    POLYGON ((127.04073 37.58136, 127.04074 37.581...\n",
       "53880  0    POLYGON ((127.04074 37.58145, 127.04074 37.581...\n",
       "53881  0    POLYGON ((127.04078 37.58138, 127.04081 37.581...\n",
       "53882  0    POLYGON ((127.04094 37.58132, 127.04095 37.581...\n",
       "Name: geometry, Length: 52369, dtype: geometry"
      ]
     },
     "execution_count": 34,
     "metadata": {},
     "output_type": "execute_result"
    }
   ],
   "source": [
    "buildings = gpd.GeoDataFrame(building).set_geometry('geometry')['geometry']\n",
    "buildings = buildings.explode()\n",
    "buildings"
   ]
  },
  {
   "cell_type": "code",
   "execution_count": 35,
   "metadata": {},
   "outputs": [
    {
     "data": {
      "text/html": [
       "<div>\n",
       "<style scoped>\n",
       "    .dataframe tbody tr th:only-of-type {\n",
       "        vertical-align: middle;\n",
       "    }\n",
       "\n",
       "    .dataframe tbody tr th {\n",
       "        vertical-align: top;\n",
       "    }\n",
       "\n",
       "    .dataframe thead th {\n",
       "        text-align: right;\n",
       "    }\n",
       "</style>\n",
       "<table border=\"1\" class=\"dataframe\">\n",
       "  <thead>\n",
       "    <tr style=\"text-align: right;\">\n",
       "      <th></th>\n",
       "      <th>geometry</th>\n",
       "    </tr>\n",
       "  </thead>\n",
       "  <tbody>\n",
       "    <tr>\n",
       "      <th>0</th>\n",
       "      <td>POLYGON ((127.05994 37.58265, 127.06023 37.582...</td>\n",
       "    </tr>\n",
       "    <tr>\n",
       "      <th>1</th>\n",
       "      <td>POLYGON ((127.06013 37.58249, 127.06012 37.582...</td>\n",
       "    </tr>\n",
       "    <tr>\n",
       "      <th>2</th>\n",
       "      <td>POLYGON ((127.05985 37.58242, 127.06007 37.582...</td>\n",
       "    </tr>\n",
       "    <tr>\n",
       "      <th>3</th>\n",
       "      <td>POLYGON ((127.06033 37.58263, 127.06057 37.582...</td>\n",
       "    </tr>\n",
       "    <tr>\n",
       "      <th>4</th>\n",
       "      <td>POLYGON ((127.06033 37.58253, 127.06057 37.582...</td>\n",
       "    </tr>\n",
       "    <tr>\n",
       "      <th>...</th>\n",
       "      <td>...</td>\n",
       "    </tr>\n",
       "    <tr>\n",
       "      <th>52364</th>\n",
       "      <td>POLYGON ((127.04066 37.58145, 127.04067 37.581...</td>\n",
       "    </tr>\n",
       "    <tr>\n",
       "      <th>52365</th>\n",
       "      <td>POLYGON ((127.04073 37.58136, 127.04074 37.581...</td>\n",
       "    </tr>\n",
       "    <tr>\n",
       "      <th>52366</th>\n",
       "      <td>POLYGON ((127.04074 37.58145, 127.04074 37.581...</td>\n",
       "    </tr>\n",
       "    <tr>\n",
       "      <th>52367</th>\n",
       "      <td>POLYGON ((127.04078 37.58138, 127.04081 37.581...</td>\n",
       "    </tr>\n",
       "    <tr>\n",
       "      <th>52368</th>\n",
       "      <td>POLYGON ((127.04094 37.58132, 127.04095 37.581...</td>\n",
       "    </tr>\n",
       "  </tbody>\n",
       "</table>\n",
       "<p>52369 rows × 1 columns</p>\n",
       "</div>"
      ],
      "text/plain": [
       "                                                geometry\n",
       "0      POLYGON ((127.05994 37.58265, 127.06023 37.582...\n",
       "1      POLYGON ((127.06013 37.58249, 127.06012 37.582...\n",
       "2      POLYGON ((127.05985 37.58242, 127.06007 37.582...\n",
       "3      POLYGON ((127.06033 37.58263, 127.06057 37.582...\n",
       "4      POLYGON ((127.06033 37.58253, 127.06057 37.582...\n",
       "...                                                  ...\n",
       "52364  POLYGON ((127.04066 37.58145, 127.04067 37.581...\n",
       "52365  POLYGON ((127.04073 37.58136, 127.04074 37.581...\n",
       "52366  POLYGON ((127.04074 37.58145, 127.04074 37.581...\n",
       "52367  POLYGON ((127.04078 37.58138, 127.04081 37.581...\n",
       "52368  POLYGON ((127.04094 37.58132, 127.04095 37.581...\n",
       "\n",
       "[52369 rows x 1 columns]"
      ]
     },
     "execution_count": 35,
     "metadata": {},
     "output_type": "execute_result"
    }
   ],
   "source": [
    "polys = buildings.reset_index()['geometry']\n",
    "polys = gpd.GeoDataFrame(polys)\n",
    "polys"
   ]
  },
  {
   "cell_type": "code",
   "execution_count": 36,
   "metadata": {},
   "outputs": [
    {
     "data": {
      "text/plain": [
       "geopandas.geodataframe.GeoDataFrame"
      ]
     },
     "execution_count": 36,
     "metadata": {},
     "output_type": "execute_result"
    }
   ],
   "source": [
    "type(polys)"
   ]
  },
  {
   "cell_type": "code",
   "execution_count": 37,
   "metadata": {},
   "outputs": [],
   "source": [
    "sat_path = \"/Users/ug/Desktop/img/*.png\""
   ]
  },
  {
   "cell_type": "code",
   "execution_count": 38,
   "metadata": {},
   "outputs": [],
   "source": [
    "sat_files = glob.glob(sat_path)"
   ]
  },
  {
   "cell_type": "code",
   "execution_count": 48,
   "metadata": {},
   "outputs": [
    {
     "name": "stdout",
     "output_type": "stream",
     "text": [
      "/Users/dabeeo/Desktop/seoul/new_2015/19_447244_202965.png\n"
     ]
    }
   ],
   "source": [
    "img_file = sat_files[1]\n",
    "print(img_file)\n",
    "img = cv2.imread(img_file)\n",
    "mask = np.zeros_like(img)\n",
    "if np.count_nonzero(img) == 0:\n",
    "    print(\"There are some Errors\")\n",
    "\n",
    "zoom, xtile, ytile = img_file.replace(\".png\",\"\").split(\"/\")[-1].split(\"_\")\n",
    "zoom, xtile, ytile = int(zoom), int(xtile), int(ytile)\n",
    "minlon, minlat = xy2lonlat(xtile, ytile, zoom)\n",
    "maxlon, maxlat  = xy2lonlat(xtile + 1, ytile + 1, zoom)\n",
    "\n",
    "temp_box = gpd.GeoSeries([geometry.Polygon([(minlon,minlat), (maxlon,minlat), (maxlon,maxlat), (minlon,maxlat)])])\n",
    "box = gpd.GeoDataFrame({'geometry': temp_box})"
   ]
  },
  {
   "cell_type": "code",
   "execution_count": 49,
   "metadata": {},
   "outputs": [
    {
     "name": "stdout",
     "output_type": "stream",
     "text": [
      "time:  0.3852391242980957\n"
     ]
    }
   ],
   "source": [
    "start = time.time()\n",
    "\n",
    "intersected_polys = gpd.sjoin(polys, box)\n",
    "intersected_polys = gpd.GeoDataFrame(intersected_polys.reset_index())\n",
    "\n",
    "print(\"time: \", time.time() - start)"
   ]
  },
  {
   "cell_type": "code",
   "execution_count": 50,
   "metadata": {},
   "outputs": [
    {
     "data": {
      "text/plain": [
       "<matplotlib.axes._subplots.AxesSubplot at 0x135146b70>"
      ]
     },
     "execution_count": 50,
     "metadata": {},
     "output_type": "execute_result"
    },
    {
     "data": {
      "image/png": "[encoded data removed]",
      "text/plain": [
       "<Figure size 432x288 with 1 Axes>"
      ]
     },
     "metadata": {
      "needs_background": "light"
     },
     "output_type": "display_data"
    }
   ],
   "source": [
    "intersected_polys['geometry'].plot()"
   ]
  },
  {
   "cell_type": "markdown",
   "metadata": {},
   "source": [
    "### Notice\n",
    "It you want to save this above three intersected_polys, you can use cv2.fillPoly(). The saved results between above three intersected_polys are all the same."
   ]
  },
  {
   "cell_type": "code",
   "execution_count": null,
   "metadata": {},
   "outputs": [],
   "source": []
  }
 ],
 "metadata": {
  "kernelspec": {
   "display_name": "Python 3",
   "language": "python",
   "name": "python3"
  },
  "language_info": {
   "codemirror_mode": {
    "name": "ipython",
    "version": 3
   },
   "file_extension": ".py",
   "mimetype": "text/x-python",
   "name": "python",
   "nbconvert_exporter": "python",
   "pygments_lexer": "ipython3",
   "version": "3.7.3"
  }
 },
 "nbformat": 4,
 "nbformat_minor": 2
}
